{
 "cells": [
  {
   "cell_type": "code",
   "execution_count": 1,
   "metadata": {},
   "outputs": [
    {
     "name": "stdout",
     "output_type": "stream",
     "text": [
      " Volume in drive C is OS\n",
      " Volume Serial Number is E2B4-6C27\n",
      "\n",
      " Directory of C:\\Users\\rmcgr\\ntg_repo\\from_grant\\for_rob\\landsat\\final_model\n",
      "\n",
      "09/16/2022  01:40 PM    <DIR>          .\n",
      "09/16/2022  01:40 PM    <DIR>          ..\n",
      "09/16/2022  01:40 PM    <DIR>          .ipynb_checkpoints\n",
      "10/28/2019  03:19 PM             1,780 apply_landsat_h99_model_multi.py\n",
      "10/28/2019  03:24 PM            10,274 apply_rfr_99percCanopyHeight_model_landsat8_in32bit_version_NoData.py\n",
      "09/16/2022  01:40 PM             4,505 Create_cPickleFile_log2_n18_rfr99pHeight_model_int32bit.py\n",
      "09/16/2022  01:40 PM                72 Untitled.ipynb\n",
      "09/15/2022  12:49 PM            70,558 validation_predict_obs_L8_30m_h99.ipynb\n",
      "09/15/2022  12:49 PM           205,191 validation_stats_and_plots_l8_99th.ipynb\n",
      "               6 File(s)        292,380 bytes\n",
      "               3 Dir(s)  1,791,917,178,880 bytes free\n"
     ]
    }
   ],
   "source": [
    "ls"
   ]
  },
  {
   "cell_type": "code",
   "execution_count": 6,
   "metadata": {},
   "outputs": [
    {
     "name": "stdout",
     "output_type": "stream",
     "text": [
      "psB1a       int32\n",
      "psB2a       int32\n",
      "psB3a       int32\n",
      "psB4a       int32\n",
      "psB5a       int32\n",
      "psB6a       int32\n",
      "ratio32a    int32\n",
      "ratio42a    int32\n",
      "ratio43a    int32\n",
      "ratio52a    int32\n",
      "ratio53a    int32\n",
      "ratio54a    int32\n",
      "ratio62a    int32\n",
      "ratio63a    int32\n",
      "ratio64a    int32\n",
      "ratio65a    int32\n",
      "GSAVIa      int32\n",
      "GNDVIa      int32\n",
      "CVIfa       int32\n",
      "CVIa        int32\n",
      "NDGIa       int32\n",
      "RIa         int32\n",
      "NBRa        int32\n",
      "NDIIa       int32\n",
      "GDVIa       int32\n",
      "MSAVIa      int32\n",
      "DVIa        int32\n",
      "SAVIa       int32\n",
      "NDVIa       int32\n",
      "MSRa        int32\n",
      "dtype: object\n",
      "total_agb    float32\n",
      "dtype: object\n",
      "(21,)\n",
      "(21, 30)\n",
      "Fitted model r2 = -0.00\n",
      "Fitted model mse = 3022296.26\n",
      "n = 21\n"
     ]
    }
   ],
   "source": [
    "%run Create_cPickleFile_log2_n18_rfr99pHeight_model_int32bit.py"
   ]
  },
  {
   "cell_type": "code",
   "execution_count": null,
   "metadata": {},
   "outputs": [],
   "source": []
  }
 ],
 "metadata": {
  "kernelspec": {
   "display_name": "Python 3",
   "language": "python",
   "name": "python3"
  },
  "language_info": {
   "codemirror_mode": {
    "name": "ipython",
    "version": 3
   },
   "file_extension": ".py",
   "mimetype": "text/x-python",
   "name": "python",
   "nbconvert_exporter": "python",
   "pygments_lexer": "ipython3",
   "version": "3.7.7"
  }
 },
 "nbformat": 4,
 "nbformat_minor": 4
}
