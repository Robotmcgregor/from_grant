{
 "cells": [
  {
   "cell_type": "code",
   "execution_count": 1,
   "metadata": {},
   "outputs": [],
   "source": [
    "%matplotlib inline\n",
    "import pandas as pd\n",
    "import numpy as np\n",
    "import matplotlib.pyplot as plt\n",
    "import geopandas as gpd\n",
    "pd.set_option('chained_assignment',None)\n",
    "from __future__ import division\n",
    "#pd.set_option('precision', 8)"
   ]
  },
  {
   "cell_type": "code",
   "execution_count": 2,
   "metadata": {},
   "outputs": [],
   "source": [
    "# this note book will take in the combined training and validation data which has been combined and produces the \n",
    "# \n",
    "# ratios and vegetation indices for Landsat-8 (use the one written for the sentinel-2) and converts them to int32 bit data \n",
    "# \n",
    "# and reduces the significant figures to 8 decimal places. Comment out the relevent input csv file at the start and finish\n",
    "#"
   ]
  },
  {
   "cell_type": "code",
   "execution_count": 3,
   "metadata": {},
   "outputs": [
    {
     "name": "stdout",
     "output_type": "stream",
     "text": [
      "['uid', 'c_agb_kg1ha', 'b1_dja_min', 'b1_dja_max', 'b1_dja_mean', 'b1_dja_med', 'b1_dja_std', 'b1_dja_p25', 'b1_dja_p50', 'b1_dja_p75', 'b1_dja_p95', 'b1_dja_p99', 'b1_dbi_min', 'b1_dbi_max', 'b1_dbi_mean', 'b1_dbi_med', 'b1_dbi_std', 'b1_dbi_p25', 'b1_dbi_p50', 'b1_dbi_p75', 'b1_dbi_p95', 'b1_dbi_p99', 'b2_dbi_min', 'b2_dbi_max', 'b2_dbi_mean', 'b2_dbi_med', 'b2_dbi_std', 'b2_dbi_p25', 'b2_dbi_p50', 'b2_dbi_p75', 'b2_dbi_p95', 'b2_dbi_p99', 'b3_dbi_min', 'b3_dbi_max', 'b3_dbi_mean', 'b3_dbi_med', 'b3_dbi_std', 'b3_dbi_p25', 'b3_dbi_p50', 'b3_dbi_p75', 'b3_dbi_p95', 'b3_dbi_p99', 'b4_dbi_min', 'b4_dbi_max', 'b4_dbi_mean', 'b4_dbi_med', 'b4_dbi_std', 'b4_dbi_p25', 'b4_dbi_p50', 'b4_dbi_p75', 'b4_dbi_p95', 'b4_dbi_p99', 'b5_dbi_min', 'b5_dbi_max', 'b5_dbi_mean', 'b5_dbi_med', 'b5_dbi_std', 'b5_dbi_p25', 'b5_dbi_p50', 'b5_dbi_p75', 'b5_dbi_p95', 'b5_dbi_p99', 'b6_dbi_min', 'b6_dbi_max', 'b6_dbi_mean', 'b6_dbi_med', 'b6_dbi_std', 'b6_dbi_p25', 'b6_dbi_p50', 'b6_dbi_p75', 'b6_dbi_p95', 'b6_dbi_p99', 'b1_dim_min', 'b1_dim_max', 'b1_dim_mean', 'b1_dim_med', 'b1_dim_std', 'b1_dim_p25', 'b1_dim_p50', 'b1_dim_p75', 'b1_dim_p95', 'b1_dim_p99', 'b2_dim_min', 'b2_dim_max', 'b2_dim_mean', 'b2_dim_med', 'b2_dim_std', 'b2_dim_p25', 'b2_dim_p50', 'b2_dim_p75', 'b2_dim_p95', 'b2_dim_p99', 'b3_dim_min', 'b3_dim_max', 'b3_dim_mean', 'b3_dim_med', 'b3_dim_std', 'b3_dim_p25', 'b3_dim_p50', 'b3_dim_p75', 'b3_dim_p95', 'b3_dim_p99', 'dis_min', 'dis_max', 'dis_mean', 'dis_sum', 'dis_sum.1', 'dis_sum.2', 'dis_sum.3', 'dis_sum.4', 'dis_sum.5', 'dis_sum.6', 'dis_sum.7', 'dis_med', 'dis_major', 'dis_minor', 'dis_one', 'dis_two', 'dis_three', 'dis_four', 'dis_five', 'dis_six', 'dis_seven', 'dis_eight', 'dis_nine', 'dis_ten', 'dka_min', 'dka_max', 'dka_mean', 'dka_sum', 'dka_sum.1', 'dka_sum.2', 'dka_sum.3', 'dka_sum.4', 'dka_sum.5', 'dka_sum.6', 'dka_sum.7', 'dka_med', 'dka_major', 'dka_minor', 'dka_jan', 'dka_feb', 'dka_mar', 'dka_april', 'dka_may', 'dka_june', 'dka_july', 'dka_aug', 'dka_sep', 'dka_oct', 'dka_nov', 'dka_dec', 'stc_min', 'stc_max', 'stc_mean', 'stc_sum', 'stc_sum.1', 'stc_sum.2', 'stc_sum.3', 'stc_sum.4', 'stc_sum.5', 'stc_sum.6', 'stc_sum.7', 'stc_med', 'stc_major', 'stc_minor', 'stc_one', 'stc_two', 'stc_three', 'stc_four', 'stc_five', 'stc_six', 'stc_seven', 'stc_eight', 'stc_nine', 'stc_ten', 'stc_elev', 'stc_twelv', 'stc_thirt', 'stc_fourt', 'stc_fift', 'stc_sixt', 'stc_sevent']\n",
      "(180, 183)\n"
     ]
    }
   ],
   "source": [
    "# read in the zonal stats results\n",
    "a = pd.read_csv(r\"F:\\cdu\\data\\zonal_stats\\output\\merged_slats_field_agb_nt_mosaic_clean_start.csv\", header=0)\n",
    "print (list(a))\n",
    "print (a.shape)"
   ]
  },
  {
   "cell_type": "code",
   "execution_count": 6,
   "metadata": {},
   "outputs": [],
   "source": [
    "a = a[[\"site\", \"total_agb\", \"b2_ref_mean\", \"b3_ref_mean\", \"b4_ref_mean\", \"b5_ref_mean\", \"b6_ref_mean\", \"b7_ref_mean\"]]"
   ]
  },
  {
   "cell_type": "code",
   "execution_count": 11,
   "metadata": {},
   "outputs": [],
   "source": [
    "a.columns = [\"site\", \"total_agb\", \"psB1a\", \"psB2a\", \"psB3a\", \"psB4a\", \"psB5a\", \"psB6a\", ]"
   ]
  },
  {
   "cell_type": "code",
   "execution_count": 12,
   "metadata": {},
   "outputs": [],
   "source": [
    "# read in the zonal stats results\n",
    "#a = pd.read_csv(\"combined_val_data_l8.csv\", header=0)\n",
    "#print (list(a))"
   ]
  },
  {
   "cell_type": "code",
   "execution_count": 13,
   "metadata": {},
   "outputs": [],
   "source": [
    "# converts interger stage code dbg surface reflectance data for landsat 5 & 7 \n",
    "# to floating point for analysis of the vegetation index, blue band not used\n",
    "\n",
    "blue =((a['psB1a'].astype('int16')*0.0001)+0.0)\n",
    "\n",
    "green =((a['psB2a'].astype('int16')*0.0001)+0.0)\n",
    "red = ((a['psB3a'].astype('int16')*0.0001)+0.0)\n",
    "nir = ((a['psB4a'].astype('int16')*0.0001)+0.0)\n",
    "swir1 =((a['psB5a'].astype('int16')*0.0001)+0.0)\n",
    "swir2 =((a['psB6a'].astype('int16')*0.0001)+0.0)"
   ]
  },
  {
   "cell_type": "code",
   "execution_count": 14,
   "metadata": {},
   "outputs": [],
   "source": [
    "# calculate the band ratios\n",
    "\n",
    "a['ratio32fa'] = (a['psB3a'] / a['psB2a'])\n",
    "a['ratio42fa'] = (a['psB4a'] / a['psB2a'])\n",
    "a['ratio43fa'] = (a['psB4a'] / a['psB3a'])\n",
    "a['ratio52fa'] = (a['psB5a'] / a['psB2a'])\n",
    "a['ratio53fa'] = (a['psB5a'] / a['psB3a'])\n",
    "a['ratio54fa'] = (a['psB5a'] / a['psB4a'])\n",
    "a['ratio62fa'] = (a['psB6a'] / a['psB2a'])\n",
    "a['ratio63fa'] = (a['psB6a'] / a['psB3a'])\n",
    "a['ratio64fa'] = (a['psB6a'] / a['psB4a'])\n",
    "a['ratio65fa'] = (a['psB6a'] / a['psB5a'])\n",
    "\n",
    "# calculate the band ratios and convert them to int32 bit at 7 decimal places\n",
    "\n",
    "a['ratio32a'] = np.int32(np.around(a['ratio32fa'] * 10 ** 7))\n",
    "\n",
    "a['ratio42a'] = np.int32(np.around(a['ratio42fa'] * 10 ** 7))\n",
    "\n",
    "a['ratio43a'] = np.int32(np.around(a['ratio43fa'] * 10 ** 7))\n",
    "\n",
    "a['ratio52a'] = np.int32(np.around(a['ratio52fa'] * 10 ** 7))\n",
    "\n",
    "a['ratio53a'] = np.int32(np.around(a['ratio53fa'] * 10 ** 7))\n",
    "\n",
    "a['ratio54a'] = np.int32(np.around(a['ratio54fa'] * 10 ** 7))\n",
    "\n",
    "a['ratio62a'] = np.int32(np.around(a['ratio62fa'] * 10 ** 7))\n",
    "\n",
    "a['ratio63a'] = np.int32(np.around(a['ratio63fa'] * 10 ** 7))\n",
    "\n",
    "a['ratio64a'] = np.int32(np.around(a['ratio64fa'] * 10 ** 7))\n",
    "\n",
    "a['ratio65a'] = np.int32(np.around(a['ratio65fa'] * 10 ** 7))"
   ]
  },
  {
   "cell_type": "code",
   "execution_count": 15,
   "metadata": {},
   "outputs": [],
   "source": [
    "# calculate the vegetation indices\n",
    "a['GSAVIfa'] = ((nir-green)/(nir+green+0.5))*(1.5)\n",
    "a['GSAVIa'] = np.int32(np.around(a['GSAVIfa'] * 10 ** 7))\n",
    "\n",
    "a['GNDVIfa'] = (nir-green)/(nir+green)\n",
    "a['GNDVIa'] = np.int32(np.around(a['GNDVIfa'] * 10 ** 7))\n",
    "\n",
    "a['CVIfa']= (nir/green)*(red/green)\n",
    "a['CVIa'] = np.int32(np.around(a['CVIfa'] * 10 ** 7))\n",
    "\n",
    "a['NDGIfa']= (green-red)/(green+red)\n",
    "a['NDGIa'] = np.int32(np.around(a['NDGIfa'] * 10 ** 7))\n",
    "\n",
    "a['RIfa']= (red-green)/(red+green)\n",
    "a['RIa'] = np.int32(np.around(a['RIfa'] * 10 ** 7))\n",
    "\n",
    "a['NBRfa']= (nir-swir2)/(nir+swir2)\n",
    "a['NBRa'] = np.int32(np.around(a['NBRfa'] * 10 ** 7))\n",
    "\n",
    "a['NDIIfa']= (nir-swir1)/(nir+swir1)\n",
    "a['NDIIa'] = np.int32(np.around(a['NDIIfa'] * 10 ** 7))\n",
    "\n",
    "a['GDVIfa']= (nir-green)\n",
    "a['GDVIa'] = np.int32(np.around(a['GDVIfa'] * 10 ** 7))\n",
    "\n",
    "a['MSAVIfa'] = (2 * nir + 1 - np.sqrt((np.power(((2*nir)+1) , 2)) - (8 * (nir-red))))/2\n",
    "a['MSAVIa'] = np.int32(np.around(a['MSAVIfa'] * 10 ** 7))\n",
    "\n",
    "a['DVIfa'] = (nir-red)\n",
    "a['DVIa'] = np.int32(np.around(a['DVIfa'] * 10 ** 7))\n",
    "\n",
    "a['SAVIfa']= ((nir-red)/(nir+red+0.5))*(1+0.5)\n",
    "a['SAVIa'] = np.int32(np.around(a['SAVIfa'] * 10 ** 7))\n",
    "\n",
    "a['NDVIfa']= (nir-red)/(nir+red)\n",
    "a['NDVIa'] = np.int32(np.around(a['NDVIfa'] * 10 ** 7))\n",
    "\n",
    "a['MSRfa']= (((nir/red)-1)/((np.sqrt(nir/red))+1))\n",
    "a['MSRa'] = np.int32(np.around(a['MSRfa'] * 10 ** 7))"
   ]
  },
  {
   "cell_type": "code",
   "execution_count": null,
   "metadata": {},
   "outputs": [],
   "source": []
  },
  {
   "cell_type": "code",
   "execution_count": 16,
   "metadata": {},
   "outputs": [
    {
     "ename": "KeyError",
     "evalue": "'psB1d'",
     "output_type": "error",
     "traceback": [
      "\u001b[1;31m---------------------------------------------------------------------------\u001b[0m",
      "\u001b[1;31mKeyError\u001b[0m                                  Traceback (most recent call last)",
      "\u001b[1;32mC:\\Users\\rmcgr\\anaconda3\\envs\\zonal\\lib\\site-packages\\pandas\\core\\indexes\\base.py\u001b[0m in \u001b[0;36mget_loc\u001b[1;34m(self, key, method, tolerance)\u001b[0m\n\u001b[0;32m   2888\u001b[0m             \u001b[1;32mtry\u001b[0m\u001b[1;33m:\u001b[0m\u001b[1;33m\u001b[0m\u001b[1;33m\u001b[0m\u001b[0m\n\u001b[1;32m-> 2889\u001b[1;33m                 \u001b[1;32mreturn\u001b[0m \u001b[0mself\u001b[0m\u001b[1;33m.\u001b[0m\u001b[0m_engine\u001b[0m\u001b[1;33m.\u001b[0m\u001b[0mget_loc\u001b[0m\u001b[1;33m(\u001b[0m\u001b[0mcasted_key\u001b[0m\u001b[1;33m)\u001b[0m\u001b[1;33m\u001b[0m\u001b[1;33m\u001b[0m\u001b[0m\n\u001b[0m\u001b[0;32m   2890\u001b[0m             \u001b[1;32mexcept\u001b[0m \u001b[0mKeyError\u001b[0m \u001b[1;32mas\u001b[0m \u001b[0merr\u001b[0m\u001b[1;33m:\u001b[0m\u001b[1;33m\u001b[0m\u001b[1;33m\u001b[0m\u001b[0m\n",
      "\u001b[1;32mpandas\\_libs\\index.pyx\u001b[0m in \u001b[0;36mpandas._libs.index.IndexEngine.get_loc\u001b[1;34m()\u001b[0m\n",
      "\u001b[1;32mpandas\\_libs\\index.pyx\u001b[0m in \u001b[0;36mpandas._libs.index.IndexEngine.get_loc\u001b[1;34m()\u001b[0m\n",
      "\u001b[1;32mpandas\\_libs\\hashtable_class_helper.pxi\u001b[0m in \u001b[0;36mpandas._libs.hashtable.PyObjectHashTable.get_item\u001b[1;34m()\u001b[0m\n",
      "\u001b[1;32mpandas\\_libs\\hashtable_class_helper.pxi\u001b[0m in \u001b[0;36mpandas._libs.hashtable.PyObjectHashTable.get_item\u001b[1;34m()\u001b[0m\n",
      "\u001b[1;31mKeyError\u001b[0m: 'psB1d'",
      "\nThe above exception was the direct cause of the following exception:\n",
      "\u001b[1;31mKeyError\u001b[0m                                  Traceback (most recent call last)",
      "\u001b[1;32m<ipython-input-16-2e2cc0f225b8>\u001b[0m in \u001b[0;36m<module>\u001b[1;34m()\u001b[0m\n\u001b[0;32m      2\u001b[0m \u001b[1;31m# to floating point for analysis of the vegetation index, blue band not used\u001b[0m\u001b[1;33m\u001b[0m\u001b[1;33m\u001b[0m\u001b[1;33m\u001b[0m\u001b[0m\n\u001b[0;32m      3\u001b[0m \u001b[1;33m\u001b[0m\u001b[0m\n\u001b[1;32m----> 4\u001b[1;33m \u001b[0mblued\u001b[0m \u001b[1;33m=\u001b[0m\u001b[1;33m(\u001b[0m\u001b[1;33m(\u001b[0m\u001b[0ma\u001b[0m\u001b[1;33m[\u001b[0m\u001b[1;34m'psB1d'\u001b[0m\u001b[1;33m]\u001b[0m\u001b[1;33m.\u001b[0m\u001b[0mastype\u001b[0m\u001b[1;33m(\u001b[0m\u001b[1;34m'int16'\u001b[0m\u001b[1;33m)\u001b[0m\u001b[1;33m*\u001b[0m\u001b[1;36m0.0001\u001b[0m\u001b[1;33m)\u001b[0m\u001b[1;33m+\u001b[0m\u001b[1;36m0.0\u001b[0m\u001b[1;33m)\u001b[0m\u001b[1;33m\u001b[0m\u001b[1;33m\u001b[0m\u001b[0m\n\u001b[0m\u001b[0;32m      5\u001b[0m \u001b[1;33m\u001b[0m\u001b[0m\n\u001b[0;32m      6\u001b[0m \u001b[0mgreend\u001b[0m \u001b[1;33m=\u001b[0m\u001b[1;33m(\u001b[0m\u001b[1;33m(\u001b[0m\u001b[0ma\u001b[0m\u001b[1;33m[\u001b[0m\u001b[1;34m'psB2d'\u001b[0m\u001b[1;33m]\u001b[0m\u001b[1;33m.\u001b[0m\u001b[0mastype\u001b[0m\u001b[1;33m(\u001b[0m\u001b[1;34m'int16'\u001b[0m\u001b[1;33m)\u001b[0m\u001b[1;33m*\u001b[0m\u001b[1;36m0.0001\u001b[0m\u001b[1;33m)\u001b[0m\u001b[1;33m+\u001b[0m\u001b[1;36m0.0\u001b[0m\u001b[1;33m)\u001b[0m\u001b[1;33m\u001b[0m\u001b[1;33m\u001b[0m\u001b[0m\n",
      "\u001b[1;32mC:\\Users\\rmcgr\\anaconda3\\envs\\zonal\\lib\\site-packages\\pandas\\core\\frame.py\u001b[0m in \u001b[0;36m__getitem__\u001b[1;34m(self, key)\u001b[0m\n\u001b[0;32m   2900\u001b[0m             \u001b[1;32mif\u001b[0m \u001b[0mself\u001b[0m\u001b[1;33m.\u001b[0m\u001b[0mcolumns\u001b[0m\u001b[1;33m.\u001b[0m\u001b[0mnlevels\u001b[0m \u001b[1;33m>\u001b[0m \u001b[1;36m1\u001b[0m\u001b[1;33m:\u001b[0m\u001b[1;33m\u001b[0m\u001b[1;33m\u001b[0m\u001b[0m\n\u001b[0;32m   2901\u001b[0m                 \u001b[1;32mreturn\u001b[0m \u001b[0mself\u001b[0m\u001b[1;33m.\u001b[0m\u001b[0m_getitem_multilevel\u001b[0m\u001b[1;33m(\u001b[0m\u001b[0mkey\u001b[0m\u001b[1;33m)\u001b[0m\u001b[1;33m\u001b[0m\u001b[1;33m\u001b[0m\u001b[0m\n\u001b[1;32m-> 2902\u001b[1;33m             \u001b[0mindexer\u001b[0m \u001b[1;33m=\u001b[0m \u001b[0mself\u001b[0m\u001b[1;33m.\u001b[0m\u001b[0mcolumns\u001b[0m\u001b[1;33m.\u001b[0m\u001b[0mget_loc\u001b[0m\u001b[1;33m(\u001b[0m\u001b[0mkey\u001b[0m\u001b[1;33m)\u001b[0m\u001b[1;33m\u001b[0m\u001b[1;33m\u001b[0m\u001b[0m\n\u001b[0m\u001b[0;32m   2903\u001b[0m             \u001b[1;32mif\u001b[0m \u001b[0mis_integer\u001b[0m\u001b[1;33m(\u001b[0m\u001b[0mindexer\u001b[0m\u001b[1;33m)\u001b[0m\u001b[1;33m:\u001b[0m\u001b[1;33m\u001b[0m\u001b[1;33m\u001b[0m\u001b[0m\n\u001b[0;32m   2904\u001b[0m                 \u001b[0mindexer\u001b[0m \u001b[1;33m=\u001b[0m \u001b[1;33m[\u001b[0m\u001b[0mindexer\u001b[0m\u001b[1;33m]\u001b[0m\u001b[1;33m\u001b[0m\u001b[1;33m\u001b[0m\u001b[0m\n",
      "\u001b[1;32mC:\\Users\\rmcgr\\anaconda3\\envs\\zonal\\lib\\site-packages\\pandas\\core\\indexes\\base.py\u001b[0m in \u001b[0;36mget_loc\u001b[1;34m(self, key, method, tolerance)\u001b[0m\n\u001b[0;32m   2889\u001b[0m                 \u001b[1;32mreturn\u001b[0m \u001b[0mself\u001b[0m\u001b[1;33m.\u001b[0m\u001b[0m_engine\u001b[0m\u001b[1;33m.\u001b[0m\u001b[0mget_loc\u001b[0m\u001b[1;33m(\u001b[0m\u001b[0mcasted_key\u001b[0m\u001b[1;33m)\u001b[0m\u001b[1;33m\u001b[0m\u001b[1;33m\u001b[0m\u001b[0m\n\u001b[0;32m   2890\u001b[0m             \u001b[1;32mexcept\u001b[0m \u001b[0mKeyError\u001b[0m \u001b[1;32mas\u001b[0m \u001b[0merr\u001b[0m\u001b[1;33m:\u001b[0m\u001b[1;33m\u001b[0m\u001b[1;33m\u001b[0m\u001b[0m\n\u001b[1;32m-> 2891\u001b[1;33m                 \u001b[1;32mraise\u001b[0m \u001b[0mKeyError\u001b[0m\u001b[1;33m(\u001b[0m\u001b[0mkey\u001b[0m\u001b[1;33m)\u001b[0m \u001b[1;32mfrom\u001b[0m \u001b[0merr\u001b[0m\u001b[1;33m\u001b[0m\u001b[1;33m\u001b[0m\u001b[0m\n\u001b[0m\u001b[0;32m   2892\u001b[0m \u001b[1;33m\u001b[0m\u001b[0m\n\u001b[0;32m   2893\u001b[0m         \u001b[1;32mif\u001b[0m \u001b[0mtolerance\u001b[0m \u001b[1;32mis\u001b[0m \u001b[1;32mnot\u001b[0m \u001b[1;32mNone\u001b[0m\u001b[1;33m:\u001b[0m\u001b[1;33m\u001b[0m\u001b[1;33m\u001b[0m\u001b[0m\n",
      "\u001b[1;31mKeyError\u001b[0m: 'psB1d'"
     ]
    }
   ],
   "source": [
    "# converts interger stage code dbg surface reflectance data for landsat 5 & 7 \n",
    "# to floating point for analysis of the vegetation index, blue band not used\n",
    "\n",
    "blued =((a['psB1d'].astype('int16')*0.0001)+0.0)\n",
    "\n",
    "greend =((a['psB2d'].astype('int16')*0.0001)+0.0)\n",
    "redd = ((a['psB3d'].astype('int16')*0.0001)+0.0)\n",
    "nird = ((a['psB4d'].astype('int16')*0.0001)+0.0)\n",
    "swir1d =((a['psB5d'].astype('int16')*0.0001)+0.0)\n",
    "swir2d =((a['psB6d'].astype('int16')*0.0001)+0.0)"
   ]
  },
  {
   "cell_type": "code",
   "execution_count": 17,
   "metadata": {},
   "outputs": [
    {
     "ename": "KeyError",
     "evalue": "'psB3d'",
     "output_type": "error",
     "traceback": [
      "\u001b[1;31m---------------------------------------------------------------------------\u001b[0m",
      "\u001b[1;31mKeyError\u001b[0m                                  Traceback (most recent call last)",
      "\u001b[1;32mC:\\Users\\rmcgr\\anaconda3\\envs\\zonal\\lib\\site-packages\\pandas\\core\\indexes\\base.py\u001b[0m in \u001b[0;36mget_loc\u001b[1;34m(self, key, method, tolerance)\u001b[0m\n\u001b[0;32m   2888\u001b[0m             \u001b[1;32mtry\u001b[0m\u001b[1;33m:\u001b[0m\u001b[1;33m\u001b[0m\u001b[1;33m\u001b[0m\u001b[0m\n\u001b[1;32m-> 2889\u001b[1;33m                 \u001b[1;32mreturn\u001b[0m \u001b[0mself\u001b[0m\u001b[1;33m.\u001b[0m\u001b[0m_engine\u001b[0m\u001b[1;33m.\u001b[0m\u001b[0mget_loc\u001b[0m\u001b[1;33m(\u001b[0m\u001b[0mcasted_key\u001b[0m\u001b[1;33m)\u001b[0m\u001b[1;33m\u001b[0m\u001b[1;33m\u001b[0m\u001b[0m\n\u001b[0m\u001b[0;32m   2890\u001b[0m             \u001b[1;32mexcept\u001b[0m \u001b[0mKeyError\u001b[0m \u001b[1;32mas\u001b[0m \u001b[0merr\u001b[0m\u001b[1;33m:\u001b[0m\u001b[1;33m\u001b[0m\u001b[1;33m\u001b[0m\u001b[0m\n",
      "\u001b[1;32mpandas\\_libs\\index.pyx\u001b[0m in \u001b[0;36mpandas._libs.index.IndexEngine.get_loc\u001b[1;34m()\u001b[0m\n",
      "\u001b[1;32mpandas\\_libs\\index.pyx\u001b[0m in \u001b[0;36mpandas._libs.index.IndexEngine.get_loc\u001b[1;34m()\u001b[0m\n",
      "\u001b[1;32mpandas\\_libs\\hashtable_class_helper.pxi\u001b[0m in \u001b[0;36mpandas._libs.hashtable.PyObjectHashTable.get_item\u001b[1;34m()\u001b[0m\n",
      "\u001b[1;32mpandas\\_libs\\hashtable_class_helper.pxi\u001b[0m in \u001b[0;36mpandas._libs.hashtable.PyObjectHashTable.get_item\u001b[1;34m()\u001b[0m\n",
      "\u001b[1;31mKeyError\u001b[0m: 'psB3d'",
      "\nThe above exception was the direct cause of the following exception:\n",
      "\u001b[1;31mKeyError\u001b[0m                                  Traceback (most recent call last)",
      "\u001b[1;32m<ipython-input-17-402e56b116a0>\u001b[0m in \u001b[0;36m<module>\u001b[1;34m()\u001b[0m\n\u001b[0;32m      1\u001b[0m \u001b[1;31m# calculate the band ratios\u001b[0m\u001b[1;33m\u001b[0m\u001b[1;33m\u001b[0m\u001b[1;33m\u001b[0m\u001b[0m\n\u001b[0;32m      2\u001b[0m \u001b[1;33m\u001b[0m\u001b[0m\n\u001b[1;32m----> 3\u001b[1;33m \u001b[0ma\u001b[0m\u001b[1;33m[\u001b[0m\u001b[1;34m'ratio32fd'\u001b[0m\u001b[1;33m]\u001b[0m \u001b[1;33m=\u001b[0m \u001b[1;33m(\u001b[0m\u001b[0ma\u001b[0m\u001b[1;33m[\u001b[0m\u001b[1;34m'psB3d'\u001b[0m\u001b[1;33m]\u001b[0m \u001b[1;33m/\u001b[0m \u001b[0ma\u001b[0m\u001b[1;33m[\u001b[0m\u001b[1;34m'psB2d'\u001b[0m\u001b[1;33m]\u001b[0m\u001b[1;33m)\u001b[0m\u001b[1;33m\u001b[0m\u001b[1;33m\u001b[0m\u001b[0m\n\u001b[0m\u001b[0;32m      4\u001b[0m \u001b[0ma\u001b[0m\u001b[1;33m[\u001b[0m\u001b[1;34m'ratio42fd'\u001b[0m\u001b[1;33m]\u001b[0m \u001b[1;33m=\u001b[0m \u001b[1;33m(\u001b[0m\u001b[0ma\u001b[0m\u001b[1;33m[\u001b[0m\u001b[1;34m'psB4d'\u001b[0m\u001b[1;33m]\u001b[0m \u001b[1;33m/\u001b[0m \u001b[0ma\u001b[0m\u001b[1;33m[\u001b[0m\u001b[1;34m'psB2d'\u001b[0m\u001b[1;33m]\u001b[0m\u001b[1;33m)\u001b[0m\u001b[1;33m\u001b[0m\u001b[1;33m\u001b[0m\u001b[0m\n\u001b[0;32m      5\u001b[0m \u001b[0ma\u001b[0m\u001b[1;33m[\u001b[0m\u001b[1;34m'ratio43fd'\u001b[0m\u001b[1;33m]\u001b[0m \u001b[1;33m=\u001b[0m \u001b[1;33m(\u001b[0m\u001b[0ma\u001b[0m\u001b[1;33m[\u001b[0m\u001b[1;34m'psB4d'\u001b[0m\u001b[1;33m]\u001b[0m \u001b[1;33m/\u001b[0m \u001b[0ma\u001b[0m\u001b[1;33m[\u001b[0m\u001b[1;34m'psB3d'\u001b[0m\u001b[1;33m]\u001b[0m\u001b[1;33m)\u001b[0m\u001b[1;33m\u001b[0m\u001b[1;33m\u001b[0m\u001b[0m\n",
      "\u001b[1;32mC:\\Users\\rmcgr\\anaconda3\\envs\\zonal\\lib\\site-packages\\pandas\\core\\frame.py\u001b[0m in \u001b[0;36m__getitem__\u001b[1;34m(self, key)\u001b[0m\n\u001b[0;32m   2900\u001b[0m             \u001b[1;32mif\u001b[0m \u001b[0mself\u001b[0m\u001b[1;33m.\u001b[0m\u001b[0mcolumns\u001b[0m\u001b[1;33m.\u001b[0m\u001b[0mnlevels\u001b[0m \u001b[1;33m>\u001b[0m \u001b[1;36m1\u001b[0m\u001b[1;33m:\u001b[0m\u001b[1;33m\u001b[0m\u001b[1;33m\u001b[0m\u001b[0m\n\u001b[0;32m   2901\u001b[0m                 \u001b[1;32mreturn\u001b[0m \u001b[0mself\u001b[0m\u001b[1;33m.\u001b[0m\u001b[0m_getitem_multilevel\u001b[0m\u001b[1;33m(\u001b[0m\u001b[0mkey\u001b[0m\u001b[1;33m)\u001b[0m\u001b[1;33m\u001b[0m\u001b[1;33m\u001b[0m\u001b[0m\n\u001b[1;32m-> 2902\u001b[1;33m             \u001b[0mindexer\u001b[0m \u001b[1;33m=\u001b[0m \u001b[0mself\u001b[0m\u001b[1;33m.\u001b[0m\u001b[0mcolumns\u001b[0m\u001b[1;33m.\u001b[0m\u001b[0mget_loc\u001b[0m\u001b[1;33m(\u001b[0m\u001b[0mkey\u001b[0m\u001b[1;33m)\u001b[0m\u001b[1;33m\u001b[0m\u001b[1;33m\u001b[0m\u001b[0m\n\u001b[0m\u001b[0;32m   2903\u001b[0m             \u001b[1;32mif\u001b[0m \u001b[0mis_integer\u001b[0m\u001b[1;33m(\u001b[0m\u001b[0mindexer\u001b[0m\u001b[1;33m)\u001b[0m\u001b[1;33m:\u001b[0m\u001b[1;33m\u001b[0m\u001b[1;33m\u001b[0m\u001b[0m\n\u001b[0;32m   2904\u001b[0m                 \u001b[0mindexer\u001b[0m \u001b[1;33m=\u001b[0m \u001b[1;33m[\u001b[0m\u001b[0mindexer\u001b[0m\u001b[1;33m]\u001b[0m\u001b[1;33m\u001b[0m\u001b[1;33m\u001b[0m\u001b[0m\n",
      "\u001b[1;32mC:\\Users\\rmcgr\\anaconda3\\envs\\zonal\\lib\\site-packages\\pandas\\core\\indexes\\base.py\u001b[0m in \u001b[0;36mget_loc\u001b[1;34m(self, key, method, tolerance)\u001b[0m\n\u001b[0;32m   2889\u001b[0m                 \u001b[1;32mreturn\u001b[0m \u001b[0mself\u001b[0m\u001b[1;33m.\u001b[0m\u001b[0m_engine\u001b[0m\u001b[1;33m.\u001b[0m\u001b[0mget_loc\u001b[0m\u001b[1;33m(\u001b[0m\u001b[0mcasted_key\u001b[0m\u001b[1;33m)\u001b[0m\u001b[1;33m\u001b[0m\u001b[1;33m\u001b[0m\u001b[0m\n\u001b[0;32m   2890\u001b[0m             \u001b[1;32mexcept\u001b[0m \u001b[0mKeyError\u001b[0m \u001b[1;32mas\u001b[0m \u001b[0merr\u001b[0m\u001b[1;33m:\u001b[0m\u001b[1;33m\u001b[0m\u001b[1;33m\u001b[0m\u001b[0m\n\u001b[1;32m-> 2891\u001b[1;33m                 \u001b[1;32mraise\u001b[0m \u001b[0mKeyError\u001b[0m\u001b[1;33m(\u001b[0m\u001b[0mkey\u001b[0m\u001b[1;33m)\u001b[0m \u001b[1;32mfrom\u001b[0m \u001b[0merr\u001b[0m\u001b[1;33m\u001b[0m\u001b[1;33m\u001b[0m\u001b[0m\n\u001b[0m\u001b[0;32m   2892\u001b[0m \u001b[1;33m\u001b[0m\u001b[0m\n\u001b[0;32m   2893\u001b[0m         \u001b[1;32mif\u001b[0m \u001b[0mtolerance\u001b[0m \u001b[1;32mis\u001b[0m \u001b[1;32mnot\u001b[0m \u001b[1;32mNone\u001b[0m\u001b[1;33m:\u001b[0m\u001b[1;33m\u001b[0m\u001b[1;33m\u001b[0m\u001b[0m\n",
      "\u001b[1;31mKeyError\u001b[0m: 'psB3d'"
     ]
    }
   ],
   "source": [
    "# calculate the band ratios\n",
    "\n",
    "a['ratio32fd'] = (a['psB3d'] / a['psB2d'])\n",
    "a['ratio42fd'] = (a['psB4d'] / a['psB2d'])\n",
    "a['ratio43fd'] = (a['psB4d'] / a['psB3d'])\n",
    "a['ratio52fd'] = (a['psB5d'] / a['psB2d'])\n",
    "a['ratio53fd'] = (a['psB5d'] / a['psB3d'])\n",
    "a['ratio54fd'] = (a['psB5d'] / a['psB4d'])\n",
    "a['ratio62fd'] = (a['psB6d'] / a['psB2d'])\n",
    "a['ratio63fd'] = (a['psB6d'] / a['psB3d'])\n",
    "a['ratio64fd'] = (a['psB6d'] / a['psB4d'])\n",
    "a['ratio65fd'] = (a['psB6d'] / a['psB5d'])\n",
    "\n",
    "# calculate the band ratios and convert them to int32 bit at 7 decimal places\n",
    "\n",
    "a['ratio32d'] = np.int32(np.around(a['ratio32fd'] * 10 ** 7))\n",
    "\n",
    "a['ratio42d'] = np.int32(np.around(a['ratio42fd'] * 10 ** 7))\n",
    "\n",
    "a['ratio43d'] = np.int32(np.around(a['ratio43fd'] * 10 ** 7))\n",
    "\n",
    "a['ratio52d'] = np.int32(np.around(a['ratio52fd'] * 10 ** 7))\n",
    "\n",
    "a['ratio53d'] = np.int32(np.around(a['ratio53fd'] * 10 ** 7))\n",
    "\n",
    "a['ratio54d'] = np.int32(np.around(a['ratio54fd'] * 10 ** 7))\n",
    "\n",
    "a['ratio62d'] = np.int32(np.around(a['ratio62fd'] * 10 ** 7))\n",
    "\n",
    "a['ratio63d'] = np.int32(np.around(a['ratio63fd'] * 10 ** 7))\n",
    "\n",
    "a['ratio64d'] = np.int32(np.around(a['ratio64fd'] * 10 ** 7))\n",
    "\n",
    "a['ratio65d'] = np.int32(np.around(a['ratio65fd'] * 10 ** 7))"
   ]
  },
  {
   "cell_type": "code",
   "execution_count": 12,
   "metadata": {
    "collapsed": true
   },
   "outputs": [],
   "source": [
    "# calculate the vegetation indices\n",
    "a['GSAVIfd'] = ((nird-greend)/(nird+greend+0.5))*(1.5)\n",
    "a['GSAVId'] = np.int32(np.around(a['GSAVIfd'] * 10 ** 7))\n",
    "\n",
    "a['GNDVIfd'] = (nird-greend)/(nird+greend)\n",
    "a['GNDVId'] = np.int32(np.around(a['GNDVIfd'] * 10 ** 7))\n",
    "\n",
    "a['CVIfd']= (nird/greend)*(redd/greend)\n",
    "a['CVId'] = np.int32(np.around(a['CVIfd'] * 10 ** 7))\n",
    "\n",
    "a['NDGIfd']= (greend-redd)/(greend+redd)\n",
    "a['NDGId'] = np.int32(np.around(a['NDGIfd'] * 10 ** 7))\n",
    "\n",
    "a['RIfd']= (redd-greend)/(redd+greend)\n",
    "a['RId'] = np.int32(np.around(a['RIfd'] * 10 ** 7))\n",
    "\n",
    "a['NBRfd']= (nird-swir2d)/(nird+swir2d)\n",
    "a['NBRd'] = np.int32(np.around(a['NBRfd'] * 10 ** 7))\n",
    "\n",
    "a['NDIIfd']= (nird-swir1d)/(nird+swir1d)\n",
    "a['NDIId'] = np.int32(np.around(a['NDIIfd'] * 10 ** 7))\n",
    "\n",
    "a['GDVIfd']= (nird-greend)\n",
    "a['GDVId'] = np.int32(np.around(a['GDVIfd'] * 10 ** 7))\n",
    "\n",
    "a['MSAVIfd'] = (2 * nird + 1 - np.sqrt((np.power(((2*nird)+1) , 2)) - (8 * (nird-redd))))/2\n",
    "a['MSAVId'] = np.int32(np.around(a['MSAVIfd'] * 10 ** 7))\n",
    "\n",
    "a['DVIfd'] = (nird-redd)\n",
    "a['DVId'] = np.int32(np.around(a['DVIfd'] * 10 ** 7))\n",
    "\n",
    "a['SAVIfd']= ((nird-redd)/(nird+redd+0.5))*(1+0.5)\n",
    "a['SAVId'] = np.int32(np.around(a['SAVIfa'] * 10 ** 7))\n",
    "\n",
    "a['NDVIfd']= (nird-redd)/(nird+redd)\n",
    "a['NDVId'] = np.int32(np.around(a['NDVIfd'] * 10 ** 7))\n",
    "\n",
    "a['MSRfd']= (((nird/redd)-1)/((np.sqrt(nird/redd))+1))\n",
    "a['MSRd'] = np.int32(np.around(a['MSRfd'] * 10 ** 7))"
   ]
  },
  {
   "cell_type": "code",
   "execution_count": 18,
   "metadata": {},
   "outputs": [
    {
     "name": "stdout",
     "output_type": "stream",
     "text": [
      "['site', 'total_agb', 'psB1a', 'psB2a', 'psB3a', 'psB4a', 'psB5a', 'psB6a', 'ratio32fa', 'ratio42fa', 'ratio43fa', 'ratio52fa', 'ratio53fa', 'ratio54fa', 'ratio62fa', 'ratio63fa', 'ratio64fa', 'ratio65fa', 'ratio32a', 'ratio42a', 'ratio43a', 'ratio52a', 'ratio53a', 'ratio54a', 'ratio62a', 'ratio63a', 'ratio64a', 'ratio65a', 'GSAVIfa', 'GSAVIa', 'GNDVIfa', 'GNDVIa', 'CVIfa', 'CVIa', 'NDGIfa', 'NDGIa', 'RIfa', 'RIa', 'NBRfa', 'NBRa', 'NDIIfa', 'NDIIa', 'GDVIfa', 'GDVIa', 'MSAVIfa', 'MSAVIa', 'DVIfa', 'DVIa', 'SAVIfa', 'SAVIa', 'NDVIfa', 'NDVIa', 'MSRfa', 'MSRa']\n"
     ]
    }
   ],
   "source": [
    "print (list(a))"
   ]
  },
  {
   "cell_type": "code",
   "execution_count": 14,
   "metadata": {
    "collapsed": true
   },
   "outputs": [],
   "source": [
    "tr = a[['site', 'x', 'y', 'chm', 'std_1', 'Min_1', 'Max_1', 'count_1', 'perc5_1', 'perc10_1', 'perc25_1', 'perc50_1', \n",
    "        'perc75_1', 'perc80_1', 'perc95_1', 'perc99_1', 'cov', 'psB1a', 'psB2a', 'psB3a', 'psB4a', 'psB5a', 'psB6a', \n",
    "        'psB1d', 'psB2d', 'psB3d', 'psB4d', 'psB5d', 'psB6d','ratio32a', 'ratio42a', 'ratio43a', 'ratio52a', 'ratio53a',\n",
    "        'ratio54a', 'ratio62a', 'ratio63a', 'ratio64a', 'ratio65a','GSAVIa', 'GNDVIa', 'CVIa', 'NDGIa', 'RIa', 'NBRa', \n",
    "        'NDIIa', 'GDVIa',  'MSAVIa', 'DVIa','SAVIa', 'NDVIa', 'MSRa', 'ratio32d', 'ratio42d', 'ratio43d', 'ratio52d', \n",
    "        'ratio53d', 'ratio54d','ratio62d', 'ratio63d', 'ratio64d','ratio65d', 'GSAVId', 'GNDVId',  'CVId', 'NDGId', \n",
    "        'RId',  'NBRd', 'NDIId',  'GDVId', 'MSAVId','DVId',  'SAVId', 'NDVId',  'MSRd','zone',]]"
   ]
  },
  {
   "cell_type": "code",
   "execution_count": 24,
   "metadata": {},
   "outputs": [],
   "source": [
    "# remove fa\n",
    "tr = a[['site', 'total_agb', 'psB1a', 'psB2a', 'psB3a', 'psB4a', 'psB5a', 'psB6a', 'ratio32a', 'ratio42a',\n",
    "       'ratio43a', 'ratio52a', 'ratio53a', 'ratio54a', 'ratio62a', 'ratio63a', 'ratio64a', 'ratio65a',\n",
    "        'GSAVIa',  'GNDVIa', 'CVIfa', 'CVIa', 'NDGIa',  'RIa',\n",
    "        'NBRa',  'NDIIa',  'GDVIa',  'MSAVIa',  'DVIa',  'SAVIa',\n",
    "        'NDVIa',  'MSRa']]"
   ]
  },
  {
   "cell_type": "code",
   "execution_count": 15,
   "metadata": {
    "collapsed": true
   },
   "outputs": [],
   "source": [
    "val = tr.sample(37000)"
   ]
  },
  {
   "cell_type": "code",
   "execution_count": 16,
   "metadata": {},
   "outputs": [
    {
     "data": {
      "text/plain": [
       "(37000, 76)"
      ]
     },
     "execution_count": 16,
     "metadata": {},
     "output_type": "execute_result"
    }
   ],
   "source": [
    "val.shape"
   ]
  },
  {
   "cell_type": "code",
   "execution_count": 25,
   "metadata": {},
   "outputs": [],
   "source": [
    "tr.to_csv(r'C:\\Users\\rmcgr\\ntg_repository\\tern\\outputs\\indices.csv')"
   ]
  },
  {
   "cell_type": "code",
   "execution_count": null,
   "metadata": {
    "collapsed": true
   },
   "outputs": [],
   "source": []
  }
 ],
 "metadata": {
  "anaconda-cloud": {},
  "kernelspec": {
   "display_name": "Python 3",
   "language": "python",
   "name": "python3"
  },
  "language_info": {
   "codemirror_mode": {
    "name": "ipython",
    "version": 3
   },
   "file_extension": ".py",
   "mimetype": "text/x-python",
   "name": "python",
   "nbconvert_exporter": "python",
   "pygments_lexer": "ipython3",
   "version": "3.7.7"
  }
 },
 "nbformat": 4,
 "nbformat_minor": 2
}
